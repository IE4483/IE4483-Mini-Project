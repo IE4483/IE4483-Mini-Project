{
 "cells": [
  {
   "cell_type": "markdown",
   "id": "7d50b3a8",
   "metadata": {},
   "source": [
    "#### Import the necessary libraries"
   ]
  },
  {
   "cell_type": "code",
   "execution_count": 1,
   "id": "8565eb04",
   "metadata": {},
   "outputs": [
    {
     "name": "stderr",
     "output_type": "stream",
     "text": [
      "c:\\Users\\ibrah\\AppData\\Local\\Programs\\Python\\Python312\\Lib\\site-packages\\tqdm\\auto.py:21: TqdmWarning: IProgress not found. Please update jupyter and ipywidgets. See https://ipywidgets.readthedocs.io/en/stable/user_install.html\n",
      "  from .autonotebook import tqdm as notebook_tqdm\n"
     ]
    },
    {
     "name": "stdout",
     "output_type": "stream",
     "text": [
      "2.5.1+cpu\n"
     ]
    }
   ],
   "source": [
    "import pandas as pd\n",
    "from sklearn.model_selection import train_test_split\n",
    "from transformers import BertTokenizer\n",
    "import torch\n",
    "print(torch.__version__)\n",
    "from torch.utils.data import DataLoader, TensorDataset"
   ]
  },
  {
   "cell_type": "markdown",
   "id": "f59dae0c",
   "metadata": {},
   "source": [
    "#### Load train data\n"
   ]
  },
  {
   "cell_type": "code",
   "execution_count": 2,
   "id": "9a050ec5",
   "metadata": {},
   "outputs": [
    {
     "name": "stdout",
     "output_type": "stream",
     "text": [
      "(7401, 2)\n"
     ]
    },
    {
     "data": {
      "text/html": [
       "<div>\n",
       "<style scoped>\n",
       "    .dataframe tbody tr th:only-of-type {\n",
       "        vertical-align: middle;\n",
       "    }\n",
       "\n",
       "    .dataframe tbody tr th {\n",
       "        vertical-align: top;\n",
       "    }\n",
       "\n",
       "    .dataframe thead th {\n",
       "        text-align: right;\n",
       "    }\n",
       "</style>\n",
       "<table border=\"1\" class=\"dataframe\">\n",
       "  <thead>\n",
       "    <tr style=\"text-align: right;\">\n",
       "      <th></th>\n",
       "      <th>reviews</th>\n",
       "      <th>sentiments</th>\n",
       "    </tr>\n",
       "  </thead>\n",
       "  <tbody>\n",
       "    <tr>\n",
       "      <th>0</th>\n",
       "      <td>I bought this belt for my daughter in-law for ...</td>\n",
       "      <td>1</td>\n",
       "    </tr>\n",
       "    <tr>\n",
       "      <th>1</th>\n",
       "      <td>The size was perfect and so was the color.  It...</td>\n",
       "      <td>1</td>\n",
       "    </tr>\n",
       "    <tr>\n",
       "      <th>2</th>\n",
       "      <td>Fits and feels good, esp. for doing a swim rac...</td>\n",
       "      <td>1</td>\n",
       "    </tr>\n",
       "    <tr>\n",
       "      <th>3</th>\n",
       "      <td>These socks are absolutely the best. I take pi...</td>\n",
       "      <td>1</td>\n",
       "    </tr>\n",
       "    <tr>\n",
       "      <th>4</th>\n",
       "      <td>Thank you so much for the speedy delivery they...</td>\n",
       "      <td>1</td>\n",
       "    </tr>\n",
       "  </tbody>\n",
       "</table>\n",
       "</div>"
      ],
      "text/plain": [
       "                                             reviews  sentiments\n",
       "0  I bought this belt for my daughter in-law for ...           1\n",
       "1  The size was perfect and so was the color.  It...           1\n",
       "2  Fits and feels good, esp. for doing a swim rac...           1\n",
       "3  These socks are absolutely the best. I take pi...           1\n",
       "4  Thank you so much for the speedy delivery they...           1"
      ]
     },
     "execution_count": 2,
     "metadata": {},
     "output_type": "execute_result"
    }
   ],
   "source": [
    "train_df = pd.read_json('Data Samples/train.json')\n",
    "print(train_df.shape)\n",
    "train_df.head()"
   ]
  },
  {
   "cell_type": "markdown",
   "id": "14a96201",
   "metadata": {},
   "source": [
    "### We first need to tokenize the reviews and prepare the data for BERT. \n",
    "### BERT expects tokenized input in the form of input IDs, attention masks, and possibly token type IDs."
   ]
  },
  {
   "cell_type": "code",
   "execution_count": 3,
   "id": "a67f041a",
   "metadata": {},
   "outputs": [],
   "source": [
    "# Instantiate the BERT tokenizer\n",
    "tokenizer = BertTokenizer.from_pretrained('bert-base-uncased')\n",
    "\n",
    "# Preprocess the reviews\n",
    "def encode_reviews(reviews, tokenizer, max_length=256):\n",
    "    return tokenizer.batch_encode_plus(\n",
    "        reviews, \n",
    "        add_special_tokens=True,  # Add '[CLS]' and '[SEP]'\n",
    "        return_attention_mask=True,  # Return attention masks\n",
    "        padding='max_length',  # Pad to max_length\n",
    "        truncation=True,  # Truncate longer sequences\n",
    "        max_length=max_length,  # Maximum length of sequences\n",
    "        return_tensors='pt'  # Return PyTorch tensors\n",
    "    )"
   ]
  },
  {
   "cell_type": "code",
   "execution_count": 4,
   "id": "c6b64b93",
   "metadata": {},
   "outputs": [
    {
     "name": "stdout",
     "output_type": "stream",
     "text": [
      "{'input_ids': tensor([[ 101, 7592, 1010, 2129, 2024, 2017, 1029,  102]]), 'token_type_ids': tensor([[0, 0, 0, 0, 0, 0, 0, 0]]), 'attention_mask': tensor([[1, 1, 1, 1, 1, 1, 1, 1]])}\n"
     ]
    }
   ],
   "source": [
    "from transformers import BertTokenizer\n",
    "import torch\n",
    "\n",
    "tokenizer = BertTokenizer.from_pretrained('bert-base-uncased')\n",
    "text = [\"Hello, how are you?\"]\n",
    "\n",
    "# Tokenize and check if PyTorch tensors are returned\n",
    "encoding = tokenizer(text, padding=True, truncation=True, return_tensors=\"pt\")\n",
    "print(encoding)\n"
   ]
  },
  {
   "cell_type": "markdown",
   "id": "855f9508",
   "metadata": {},
   "source": [
    "#### Encode reviews"
   ]
  },
  {
   "cell_type": "code",
   "execution_count": 5,
   "id": "4de37952",
   "metadata": {},
   "outputs": [],
   "source": [
    "train_encodings = encode_reviews(train_df['reviews'].tolist(), tokenizer)"
   ]
  },
  {
   "cell_type": "markdown",
   "id": "8568e007",
   "metadata": {},
   "source": [
    "#### You can use the TfidfVectorizer from the scikit-learn library to convert the text to vectors\n",
    "\n",
    "The vectorizer should only be fitted on the training data as the test data are unknown during training. "
   ]
  },
  {
   "cell_type": "code",
   "execution_count": null,
   "id": "389f70e0",
   "metadata": {},
   "outputs": [
    {
     "data": {
      "text/plain": [
       "(7401, 14114)"
      ]
     },
     "execution_count": 8,
     "metadata": {},
     "output_type": "execute_result"
    }
   ],
   "source": [
    "vectorizer = TfidfVectorizer()\n",
    "vectorizer = vectorizer.fit(train_df['reviews'])\n",
    "X_train = vectorizer.transform(train_df['reviews'])\n",
    "X_train.shape"
   ]
  },
  {
   "cell_type": "markdown",
   "id": "b537ed9b",
   "metadata": {},
   "source": [
    "#### Test set should be transformed using the same vectorizer (fitted on the training data)"
   ]
  },
  {
   "cell_type": "code",
   "execution_count": null,
   "id": "4f658ff0",
   "metadata": {},
   "outputs": [
    {
     "name": "stdout",
     "output_type": "stream",
     "text": [
      "(1851, 1)\n",
      "(1851, 14114)\n"
     ]
    }
   ],
   "source": [
    "test_df = pd.read_json('Data Samples/test.json')\n",
    "print(test_df.shape)\n",
    "X_test = vectorizer.transform(test_df['reviews'])\n",
    "print(X_test.shape)"
   ]
  }
 ],
 "metadata": {
  "kernelspec": {
   "display_name": "Python 3",
   "language": "python",
   "name": "python3"
  },
  "language_info": {
   "codemirror_mode": {
    "name": "ipython",
    "version": 3
   },
   "file_extension": ".py",
   "mimetype": "text/x-python",
   "name": "python",
   "nbconvert_exporter": "python",
   "pygments_lexer": "ipython3",
   "version": "3.12.5"
  }
 },
 "nbformat": 4,
 "nbformat_minor": 5
}
